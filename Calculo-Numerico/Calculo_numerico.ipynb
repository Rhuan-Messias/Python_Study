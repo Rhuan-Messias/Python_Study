{
  "nbformat": 4,
  "nbformat_minor": 0,
  "metadata": {
    "colab": {
      "name": "Calculo_numerico.ipynb",
      "provenance": [],
      "authorship_tag": "ABX9TyMIWXmVKlZojQxTw5drQRL6",
      "include_colab_link": true
    },
    "kernelspec": {
      "name": "python3",
      "display_name": "Python 3"
    },
    "language_info": {
      "name": "python"
    }
  },
  "cells": [
    {
      "cell_type": "markdown",
      "metadata": {
        "id": "view-in-github",
        "colab_type": "text"
      },
      "source": [
        "<a href=\"https://colab.research.google.com/github/Rhuan-Messias/Calculo-Numerico/blob/main/Calculo_numerico.ipynb\" target=\"_parent\"><img src=\"https://colab.research.google.com/assets/colab-badge.svg\" alt=\"Open In Colab\"/></a>"
      ]
    },
    {
      "cell_type": "markdown",
      "source": [
        "#Newton-Raphson método"
      ],
      "metadata": {
        "id": "XsOX3I1j_VYh"
      }
    },
    {
      "cell_type": "code",
      "execution_count": 4,
      "metadata": {
        "colab": {
          "base_uri": "https://localhost:8080/",
          "height": 74
        },
        "id": "Tq5SfrXm_Spb",
        "outputId": "9a1edf10-447c-4ff7-e544-43565ebfbdfc"
      },
      "outputs": [
        {
          "output_type": "display_data",
          "data": {
            "text/plain": [
              "Eq(x_i, x_i - f(x)/f'(x))"
            ],
            "text/latex": "$\\displaystyle x_{i} = x_{i} - \\frac{f(x)}{f'(x)}$"
          },
          "metadata": {}
        },
        {
          "output_type": "stream",
          "name": "stdout",
          "text": [
            "as raízes são  [-3, 2]\n"
          ]
        }
      ],
      "source": [
        "import sympy as sp \n",
        "x,x_i,fx,df = sp.symbols(\"x,x_i,f(x),f'(x)\")\n",
        "expr = sp.Eq(x_i,x_i-fx/df) # para mostrar a fórmula do método\n",
        "display(expr)\n",
        "f = x**2 + x - 6 # coloque a expressão que quiser aqui \n",
        "xi = 10 #chute inicial\n",
        "i = 10 #quantidade de iterações\n",
        "\n",
        "solução = sp.solve(expr.subs({x_i:xi,\n",
        "                              fx:f,\n",
        "                              df:sp.diff(f,x)}))\n",
        "print('as raízes são ',solução)"
      ]
    }
  ]
}