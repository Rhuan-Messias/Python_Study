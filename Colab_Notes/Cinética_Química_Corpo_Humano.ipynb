{
  "nbformat": 4,
  "nbformat_minor": 0,
  "metadata": {
    "colab": {
      "provenance": []
    },
    "kernelspec": {
      "name": "python3",
      "display_name": "Python 3"
    },
    "language_info": {
      "name": "python"
    }
  },
  "cells": [
    {
      "cell_type": "code",
      "execution_count": null,
      "metadata": {
        "id": "5IPgih3u4E7W"
      },
      "outputs": [],
      "source": [
        "import sympy as sp\n"
      ]
    },
    {
      "cell_type": "markdown",
      "source": [
        "Um ser humano (75 kg) consome cerca de 6.000 kJ de alimento por dia. Considere que o alimento contenha somente glicose e que a reação global seja:\n",
        "C2H12O6 + 6O2 = 6CO2 + 6H2O ......   -deltaHr = 2.816 kJ....\n",
        "Encontre a taxa metabólica do humano em termos de mols consumidos de O2 por m3 da pessoa por segundo."
      ],
      "metadata": {
        "id": "j9jig3Nv4VGj"
      }
    },
    {
      "cell_type": "code",
      "source": [
        "#primeiro escrever a fórmula da reação\n",
        "glicose,oxigenio,co2,agua = sp.symbols(\"C6H12O6, O_2, CO_2, H2O\")\n",
        "reac_global = sp.Eq(glicose + 6*oxigenio, 6*co2 + 6*agua)\n",
        "\n",
        "#queremos encontrar a taxa metabólica\n",
        "taxa, volume, dN_dt = sp.symbols(\"-r^'''_O_2, V_pessoa, dNO2/dt\")\n",
        "expr_taxa = sp.Eq(taxa, dN_dt/volume)\n",
        "\n",
        "#valores conhecidos\n",
        "densidade = 1000 #kg/m³\n",
        "v_pessoa = 75/1000 #m³\n",
        "\n",
        "#valor de dNO2/dt\n",
        "dno2_dt = (6/2816)*6000\n",
        "dno2_dt = dno2_dt*1/(24*3600)\n",
        "\n",
        "#encontrando a taxa\n",
        "solucao = float(sp.solve(expr_taxa.subs({\n",
        "    dN_dt:dno2_dt,\n",
        "    volume:v_pessoa\n",
        "}))[0])\n",
        "display(reac_global)\n",
        "print('')\n",
        "display(expr_taxa)\n",
        "print('')\n",
        "print(f\"{solucao:.3f} (mol de O2 consumido)/(m³.s)\")"
      ],
      "metadata": {
        "colab": {
          "base_uri": "https://localhost:8080/",
          "height": 131
        },
        "id": "ewM35fqP5utr",
        "outputId": "f12ccca7-05c7-4cb7-fc21-937974d2d54e"
      },
      "execution_count": null,
      "outputs": [
        {
          "output_type": "display_data",
          "data": {
            "text/plain": [
              "Eq(C6H12O6 + 6*O_2, 6*CO_2 + 6*H2O)"
            ],
            "text/latex": "$\\displaystyle C6H12O6 + 6 O_{2} = 6 CO_{2} + 6 H2O$"
          },
          "metadata": {}
        },
        {
          "output_type": "stream",
          "name": "stdout",
          "text": [
            "\n"
          ]
        },
        {
          "output_type": "display_data",
          "data": {
            "text/plain": [
              "Eq(-r^'''_O_2, dNO2/dt/V_pessoa)"
            ],
            "text/latex": "$\\displaystyle -r^{'''}_{O 2} = \\frac{dNO2/dt}{V_{pessoa}}$"
          },
          "metadata": {}
        },
        {
          "output_type": "stream",
          "name": "stdout",
          "text": [
            "\n",
            "0.002 (mol de O2 consumido)/(m³.s)\n"
          ]
        }
      ]
    }
  ]
}