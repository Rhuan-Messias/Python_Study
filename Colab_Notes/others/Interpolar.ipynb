{
  "nbformat": 4,
  "nbformat_minor": 0,
  "metadata": {
    "colab": {
      "name": "Interpolar.ipynb",
      "provenance": [],
      "authorship_tag": "ABX9TyN9IJ3bfVvoaan7TYhpwncp",
      "include_colab_link": true
    },
    "kernelspec": {
      "name": "python3",
      "display_name": "Python 3"
    },
    "language_info": {
      "name": "python"
    }
  },
  "cells": [
    {
      "cell_type": "markdown",
      "metadata": {
        "id": "view-in-github",
        "colab_type": "text"
      },
      "source": [
        "<a href=\"https://colab.research.google.com/github/Rhuan-Messias/Interpolar/blob/main/Interpolar.ipynb\" target=\"_parent\"><img src=\"https://colab.research.google.com/assets/colab-badge.svg\" alt=\"Open In Colab\"/></a>"
      ]
    },
    {
      "cell_type": "markdown",
      "source": [
        "#Programa para fazer interpolação\n"
      ],
      "metadata": {
        "id": "yALGaFyVWAB2"
      }
    },
    {
      "cell_type": "code",
      "execution_count": 1,
      "metadata": {
        "colab": {
          "base_uri": "https://localhost:8080/",
          "height": 73
        },
        "id": "0-b9VpzHV6AV",
        "outputId": "1c1b4200-bac2-4266-8a72-609cb9c73a23"
      },
      "outputs": [
        {
          "output_type": "display_data",
          "data": {
            "text/plain": [
              "Eq(x_i, x_1 + (-x_1 + x_2)*(y_1 - y_i)/(y_1 - y_2))"
            ],
            "text/latex": "$\\displaystyle x_{i} = x_{1} + \\frac{\\left(- x_{1} + x_{2}\\right) \\left(y_{1} - y_{i}\\right)}{y_{1} - y_{2}}$"
          },
          "metadata": {}
        },
        {
          "output_type": "stream",
          "name": "stdout",
          "text": [
            "interpolação: 259.12\n"
          ]
        }
      ],
      "source": [
        "import sympy as sp \n",
        "\n",
        "#calculo de interpolação\n",
        "#usuário chama a função colocando os valores disponíveis para interpolação\n",
        "def interpolar(yi,x1,y1,x2,y2):\n",
        "    x_i,y_i,x_1,y_1,x_2,y_2 = sp.symbols('x_i,y_i,x_1,y_1,x_2,y_2')\n",
        "    eq_interpol = sp.Eq(x_i,x_1+(x_2-x_1)*(y_1-y_i)/(y_1-y_2))\n",
        "    interpol = sp.solve(eq_interpol.subs({y_i:yi,\n",
        "                                        x_1:x1,\n",
        "                                        y_1:y1,\n",
        "                                        x_2:x2,\n",
        "                                        y_2:y2}))[0]\n",
        "                                        \n",
        "    display(eq_interpol)\n",
        "    print(f'interpolação: {interpol:.2f}')\n",
        "\n",
        "#teste\n",
        "interpolar(0.9222,256.07,0.9117,260.34,0.9264)\n",
        "#isso significa que 25u=2n, 30u= 3n, então quanto seria 27.5u ? \n",
        "# de acordo com o programa 27.5u = 2.67n "
      ]
    }
  ]
}