{
  "nbformat": 4,
  "nbformat_minor": 0,
  "metadata": {
    "colab": {
      "provenance": []
    },
    "kernelspec": {
      "name": "python3",
      "display_name": "Python 3"
    },
    "language_info": {
      "name": "python"
    }
  },
  "cells": [
    {
      "cell_type": "markdown",
      "source": [
        "#Newton-Raphson método"
      ],
      "metadata": {
        "id": "XsOX3I1j_VYh"
      }
    },
    {
      "cell_type": "code",
      "source": [
        "import sympy as sp\n",
        "\n",
        "x = sp.symbols('x')\n",
        "\n",
        "fx = x**2 - x- 6\n",
        "xi = 5\n",
        "n_iterações = 10\n",
        "\n",
        "for n in range (n_iterações):\n",
        "    xi = xi - fx.subs(x,xi)/sp.diff(fx,x).subs(x,xi)\n",
        "\n",
        "print(f'raiz = {float(xi)}')"
      ],
      "metadata": {
        "colab": {
          "base_uri": "https://localhost:8080/"
        },
        "id": "8gWED1rT-cU0",
        "outputId": "96b06050-68e2-43ab-aa73-fcfab2fae487"
      },
      "execution_count": 1,
      "outputs": [
        {
          "output_type": "stream",
          "name": "stdout",
          "text": [
            "raiz = 3.0\n"
          ]
        }
      ]
    }
  ]
}