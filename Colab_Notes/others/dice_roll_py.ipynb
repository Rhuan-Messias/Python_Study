{
  "nbformat": 4,
  "nbformat_minor": 0,
  "metadata": {
    "colab": {
      "provenance": []
    },
    "kernelspec": {
      "name": "python3",
      "display_name": "Python 3"
    },
    "language_info": {
      "name": "python"
    }
  },
  "cells": [
    {
      "cell_type": "markdown",
      "source": [
        "#Dice Roll\n"
      ],
      "metadata": {
        "id": "NiIPH2Ezm0mL"
      }
    },
    {
      "cell_type": "code",
      "execution_count": 1,
      "metadata": {
        "id": "JXU9thdPmzmS",
        "colab": {
          "base_uri": "https://localhost:8080/",
          "height": 901
        },
        "outputId": "7824070d-6038-4e62-9b3a-89827f2927d9"
      },
      "outputs": [
        {
          "name": "stdout",
          "output_type": "stream",
          "text": [
            "What dice do you want ?: d20\n",
            "***** 13 *****\n",
            "\n",
            "**************\n",
            "d20\n",
            "**************\n",
            "d100\n",
            "**************\n",
            "d20\n",
            "**************\n",
            "\n",
            "What dice do you want ?: d20\n",
            "***** 6 *****\n",
            "\n",
            "**************\n",
            "\n",
            "What dice do you want ?: d20\n",
            "***** 6 *****\n",
            "\n",
            "**************\n",
            "\n",
            "What dice do you want ?: d20\n",
            "***** 9 *****\n",
            "\n",
            "**************\n",
            "\n",
            "What dice do you want ?: \n",
            "What dice do you want ?: \n",
            "What dice do you want ?: \n",
            "What dice do you want ?: \n"
          ]
        },
        {
          "output_type": "error",
          "ename": "KeyboardInterrupt",
          "evalue": "Interrupted by user",
          "traceback": [
            "\u001b[0;31m---------------------------------------------------------------------------\u001b[0m",
            "\u001b[0;31mKeyboardInterrupt\u001b[0m                         Traceback (most recent call last)",
            "\u001b[0;32m<ipython-input-1-1fb030edcf27>\u001b[0m in \u001b[0;36m<cell line: 0>\u001b[0;34m()\u001b[0m\n\u001b[1;32m      7\u001b[0m   \u001b[0;32mwhile\u001b[0m \u001b[0mdice_kind\u001b[0m \u001b[0;34m!=\u001b[0m \u001b[0;34m'd4'\u001b[0m \u001b[0;32mand\u001b[0m \u001b[0mdice_kind\u001b[0m \u001b[0;34m!=\u001b[0m \u001b[0;34m'd6'\u001b[0m \u001b[0;32mand\u001b[0m \u001b[0mdice_kind\u001b[0m \u001b[0;34m!=\u001b[0m \u001b[0;34m'd8'\u001b[0m \u001b[0;32mand\u001b[0m \u001b[0mdice_kind\u001b[0m \u001b[0;34m!=\u001b[0m \u001b[0;34m'd10'\u001b[0m \u001b[0;32mand\u001b[0m \u001b[0mdice_kind\u001b[0m \u001b[0;34m!=\u001b[0m \u001b[0;34m'd12'\u001b[0m \u001b[0;32mand\u001b[0m \u001b[0mdice_kind\u001b[0m \u001b[0;34m!=\u001b[0m \u001b[0;34m'd20'\u001b[0m \u001b[0;32mand\u001b[0m \u001b[0mdice_kind\u001b[0m \u001b[0;34m!=\u001b[0m \u001b[0;34m'd100'\u001b[0m\u001b[0;34m:\u001b[0m\u001b[0;34m\u001b[0m\u001b[0;34m\u001b[0m\u001b[0m\n\u001b[1;32m      8\u001b[0m     \u001b[0mos\u001b[0m\u001b[0;34m.\u001b[0m\u001b[0msystem\u001b[0m\u001b[0;34m(\u001b[0m\u001b[0;34m'cls'\u001b[0m\u001b[0;34m)\u001b[0m\u001b[0;34m\u001b[0m\u001b[0;34m\u001b[0m\u001b[0m\n\u001b[0;32m----> 9\u001b[0;31m     \u001b[0mdice_kind\u001b[0m \u001b[0;34m=\u001b[0m \u001b[0minput\u001b[0m\u001b[0;34m(\u001b[0m\u001b[0;34m'What dice do you want ?: '\u001b[0m\u001b[0;34m)\u001b[0m\u001b[0;34m.\u001b[0m\u001b[0mlower\u001b[0m\u001b[0;34m(\u001b[0m\u001b[0;34m)\u001b[0m\u001b[0;34m\u001b[0m\u001b[0;34m\u001b[0m\u001b[0m\n\u001b[0m\u001b[1;32m     10\u001b[0m   \u001b[0;32mif\u001b[0m \u001b[0mdice_kind\u001b[0m \u001b[0;34m==\u001b[0m \u001b[0;34m'd4'\u001b[0m\u001b[0;34m:\u001b[0m\u001b[0;34m\u001b[0m\u001b[0;34m\u001b[0m\u001b[0m\n\u001b[1;32m     11\u001b[0m     \u001b[0mdice_value\u001b[0m \u001b[0;34m=\u001b[0m \u001b[0mrandom\u001b[0m\u001b[0;34m.\u001b[0m\u001b[0mrandint\u001b[0m\u001b[0;34m(\u001b[0m\u001b[0;36m1\u001b[0m\u001b[0;34m,\u001b[0m\u001b[0;36m4\u001b[0m\u001b[0;34m)\u001b[0m\u001b[0;34m\u001b[0m\u001b[0;34m\u001b[0m\u001b[0m\n",
            "\u001b[0;32m/usr/local/lib/python3.11/dist-packages/ipykernel/kernelbase.py\u001b[0m in \u001b[0;36mraw_input\u001b[0;34m(self, prompt)\u001b[0m\n\u001b[1;32m   1175\u001b[0m                 \u001b[0;34m\"raw_input was called, but this frontend does not support input requests.\"\u001b[0m\u001b[0;34m\u001b[0m\u001b[0;34m\u001b[0m\u001b[0m\n\u001b[1;32m   1176\u001b[0m             )\n\u001b[0;32m-> 1177\u001b[0;31m         return self._input_request(\n\u001b[0m\u001b[1;32m   1178\u001b[0m             \u001b[0mstr\u001b[0m\u001b[0;34m(\u001b[0m\u001b[0mprompt\u001b[0m\u001b[0;34m)\u001b[0m\u001b[0;34m,\u001b[0m\u001b[0;34m\u001b[0m\u001b[0;34m\u001b[0m\u001b[0m\n\u001b[1;32m   1179\u001b[0m             \u001b[0mself\u001b[0m\u001b[0;34m.\u001b[0m\u001b[0m_parent_ident\u001b[0m\u001b[0;34m[\u001b[0m\u001b[0;34m\"shell\"\u001b[0m\u001b[0;34m]\u001b[0m\u001b[0;34m,\u001b[0m\u001b[0;34m\u001b[0m\u001b[0;34m\u001b[0m\u001b[0m\n",
            "\u001b[0;32m/usr/local/lib/python3.11/dist-packages/ipykernel/kernelbase.py\u001b[0m in \u001b[0;36m_input_request\u001b[0;34m(self, prompt, ident, parent, password)\u001b[0m\n\u001b[1;32m   1217\u001b[0m             \u001b[0;32mexcept\u001b[0m \u001b[0mKeyboardInterrupt\u001b[0m\u001b[0;34m:\u001b[0m\u001b[0;34m\u001b[0m\u001b[0;34m\u001b[0m\u001b[0m\n\u001b[1;32m   1218\u001b[0m                 \u001b[0;31m# re-raise KeyboardInterrupt, to truncate traceback\u001b[0m\u001b[0;34m\u001b[0m\u001b[0;34m\u001b[0m\u001b[0m\n\u001b[0;32m-> 1219\u001b[0;31m                 \u001b[0;32mraise\u001b[0m \u001b[0mKeyboardInterrupt\u001b[0m\u001b[0;34m(\u001b[0m\u001b[0;34m\"Interrupted by user\"\u001b[0m\u001b[0;34m)\u001b[0m \u001b[0;32mfrom\u001b[0m \u001b[0;32mNone\u001b[0m\u001b[0;34m\u001b[0m\u001b[0;34m\u001b[0m\u001b[0m\n\u001b[0m\u001b[1;32m   1220\u001b[0m             \u001b[0;32mexcept\u001b[0m \u001b[0mException\u001b[0m\u001b[0;34m:\u001b[0m\u001b[0;34m\u001b[0m\u001b[0;34m\u001b[0m\u001b[0m\n\u001b[1;32m   1221\u001b[0m                 \u001b[0mself\u001b[0m\u001b[0;34m.\u001b[0m\u001b[0mlog\u001b[0m\u001b[0;34m.\u001b[0m\u001b[0mwarning\u001b[0m\u001b[0;34m(\u001b[0m\u001b[0;34m\"Invalid Message:\"\u001b[0m\u001b[0;34m,\u001b[0m \u001b[0mexc_info\u001b[0m\u001b[0;34m=\u001b[0m\u001b[0;32mTrue\u001b[0m\u001b[0;34m)\u001b[0m\u001b[0;34m\u001b[0m\u001b[0;34m\u001b[0m\u001b[0m\n",
            "\u001b[0;31mKeyboardInterrupt\u001b[0m: Interrupted by user"
          ]
        }
      ],
      "source": [
        "\n",
        "import random\n",
        "import os\n",
        "rolling = True\n",
        "while rolling == True:\n",
        "  dice_kind = ' '\n",
        "  dice_value = 0\n",
        "  while dice_kind != 'd4' and dice_kind != 'd6' and dice_kind != 'd8' and dice_kind != 'd10' and dice_kind != 'd12' and dice_kind != 'd20' and dice_kind != 'd100':\n",
        "    os.system('cls')\n",
        "    dice_kind = input('What dice do you want ?: ').lower()\n",
        "  if dice_kind == 'd4':\n",
        "    dice_value = random.randint(1,4)\n",
        "  elif dice_kind == 'd6':\n",
        "    dice_value = random.randint(1,6)\n",
        "  elif dice_kind == 'd8':\n",
        "    dice_value = random.randint(1,8)\n",
        "  elif dice_kind == 'd10':\n",
        "    dice_value = random.randint(1,10)\n",
        "  elif dice_kind == 'd12':\n",
        "    dice_value = random.randint(1,12)\n",
        "  elif dice_kind == 'd20':\n",
        "    dice_value = random.randint(1,20)\n",
        "  elif dice_kind == 'd100':\n",
        "    dice_value = random.randint(1,100)\n",
        "\n",
        "  print(f'***** {dice_value} *****\\n')\n",
        "  next_dice = 'any'\n",
        "  while next_dice != '':\n",
        "    next_dice = input('**************\\n')\n",
        "\n",
        "  os.system('cls')"
      ]
    }
  ]
}