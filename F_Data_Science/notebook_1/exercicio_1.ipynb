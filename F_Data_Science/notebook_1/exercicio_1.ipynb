{
 "cells": [
  {
   "cell_type": "markdown",
   "id": "26ea9a7f",
   "metadata": {},
   "source": [
    "1. Faça um programa que tenha uma função chamada amplitude. A função deve receber uma lista e imprimir a amplitude. Crie também um código para testar sua função\n",
    "\n",
    "2. Faça uma função que receba uma string e imprima esta string na forma vertical. Por exemplo, se receber python, deve imprimir\n",
    "p\n",
    "y\n",
    "t\n",
    "h\n",
    "o\n",
    "n\n",
    "Crie um código para testar a função\n",
    "\n",
    "3. Crie um programa que leia o peso de uma carga. Se o peso for até 10kg, informe que o valor será de R$ 50,00. Entre 11 e 20 kg, informe que o valor será de R$ 80,00. Se for maior que 20 informe que o transporte não é aceito. teste vários pesos. "
   ]
  },
  {
   "cell_type": "code",
   "execution_count": 3,
   "id": "e5bfc56d",
   "metadata": {},
   "outputs": [
    {
     "name": "stdout",
     "output_type": "stream",
     "text": [
      "500\n"
     ]
    }
   ],
   "source": [
    "# Questão 1 \n",
    "import numpy \n",
    "def amplitude(lista):\n",
    "    x_max = max(lista)\n",
    "    x_min = min(lista)\n",
    "    return x_max - x_min\n",
    "\n",
    "listinha = [0,10,20,500,30,150]\n",
    "print(amplitude(listinha))"
   ]
  },
  {
   "cell_type": "code",
   "execution_count": 5,
   "id": "b52f8c12",
   "metadata": {},
   "outputs": [
    {
     "name": "stdout",
     "output_type": "stream",
     "text": [
      "P\n",
      "y\n",
      "t\n",
      "h\n",
      "o\n",
      "n\n"
     ]
    }
   ],
   "source": [
    "def vertical_string(texto):\n",
    "    for letra in texto:\n",
    "        print(letra)\n",
    "\n",
    "palavra = 'Python'\n",
    "vertical_string(palavra)"
   ]
  },
  {
   "cell_type": "code",
   "execution_count": 14,
   "id": "6f8fc91d",
   "metadata": {},
   "outputs": [
    {
     "name": "stdout",
     "output_type": "stream",
     "text": [
      "digite o peso do produto: 20.1\n",
      "Produto não será aceito\n"
     ]
    }
   ],
   "source": [
    "def leitor_de_peso(peso):\n",
    "    if peso <= 10:\n",
    "        print(f'valor: R$50,00')\n",
    "    elif peso <= 20:\n",
    "        print('valor: R$80,00')\n",
    "    else:\n",
    "        print('Produto não será aceito')\n",
    "\n",
    "leitor_de_peso(float(input(\"digite o peso do produto: \")))"
   ]
  }
 ],
 "metadata": {
  "kernelspec": {
   "display_name": "Python 3 (ipykernel)",
   "language": "python",
   "name": "python3"
  },
  "language_info": {
   "codemirror_mode": {
    "name": "ipython",
    "version": 3
   },
   "file_extension": ".py",
   "mimetype": "text/x-python",
   "name": "python",
   "nbconvert_exporter": "python",
   "pygments_lexer": "ipython3",
   "version": "3.11.5"
  }
 },
 "nbformat": 4,
 "nbformat_minor": 5
}
