{
 "cells": [
  {
   "cell_type": "markdown",
   "id": "26ea9a7f",
   "metadata": {},
   "source": [
    "1. Faça um programa que tenha uma função chamada amplitude. A função deve receber uma lista e imprimir a amplitude. Crie também um código para testar sua função\n",
    "\n",
    "2. Faça uma função que receba uma string e imprima esta string na forma vertical. Por exemplo, se receber python, deve imprimir\n",
    "p\n",
    "y\n",
    "t\n",
    "h\n",
    "o\n",
    "n\n",
    "Crie um código para testar a função\n",
    "\n",
    "3. Crie um programa que leia o peso de uma carga em números inteiros. Se o peso for até 10kg, informe que o valor será de R$ 50,00. Entre 11 e 20 kg, informe que o valor será de R$ 80,00. Se for maior que 20 informe que o transporte não é aceito. teste vários pesos. "
   ]
  }
 ],
 "metadata": {
  "kernelspec": {
   "display_name": "Python 3 (ipykernel)",
   "language": "python",
   "name": "python3"
  },
  "language_info": {
   "codemirror_mode": {
    "name": "ipython",
    "version": 3
   },
   "file_extension": ".py",
   "mimetype": "text/x-python",
   "name": "python",
   "nbconvert_exporter": "python",
   "pygments_lexer": "ipython3",
   "version": "3.11.5"
  }
 },
 "nbformat": 4,
 "nbformat_minor": 5
}
