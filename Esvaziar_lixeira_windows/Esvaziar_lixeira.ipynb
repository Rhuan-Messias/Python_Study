{
  "nbformat": 4,
  "nbformat_minor": 0,
  "metadata": {
    "colab": {
      "provenance": [],
      "authorship_tag": "ABX9TyPxn+PwozdrFlQISunacw4+"
    },
    "kernelspec": {
      "name": "python3",
      "display_name": "Python 3"
    },
    "language_info": {
      "name": "python"
    }
  },
  "cells": [
    {
      "cell_type": "code",
      "source": [
        "pip install winshell\n"
      ],
      "metadata": {
        "id": "kz2A3JMPwowB"
      },
      "execution_count": null,
      "outputs": []
    },
    {
      "cell_type": "code",
      "execution_count": null,
      "metadata": {
        "id": "b-zO-J24wiUy"
      },
      "outputs": [],
      "source": [
        "#pip install winshell\n",
        "import winshell\n",
        "try:\n",
        "    winshell.recycle_bin().empty(confirm=True,\n",
        "    show_progress=True, sound=True)\n",
        "\n",
        "    print('Lixeira está sendo esvaziada agora')\n",
        "except:\n",
        "    print('Não tem nada na lixeira para esvaziar')"
      ]
    }
  ]
}