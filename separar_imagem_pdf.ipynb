{
  "nbformat": 4,
  "nbformat_minor": 0,
  "metadata": {
    "colab": {
      "provenance": [],
      "authorship_tag": "ABX9TyMWXTHEOGiw96TQfC9nM1xx"
    },
    "kernelspec": {
      "name": "python3",
      "display_name": "Python 3"
    },
    "language_info": {
      "name": "python"
    }
  },
  "cells": [
    {
      "cell_type": "code",
      "execution_count": 1,
      "metadata": {
        "colab": {
          "base_uri": "https://localhost:8080/"
        },
        "id": "7N_2hws1HoC7",
        "outputId": "20f2ce76-370d-444a-9a4a-aca1eab3c312"
      },
      "outputs": [
        {
          "output_type": "stream",
          "name": "stdout",
          "text": [
            "Collecting pikepdf\n",
            "  Downloading pikepdf-9.5.2-cp311-cp311-manylinux_2_17_x86_64.manylinux2014_x86_64.whl.metadata (8.1 kB)\n",
            "Requirement already satisfied: Pillow>=10.0.1 in /usr/local/lib/python3.11/dist-packages (from pikepdf) (11.1.0)\n",
            "Requirement already satisfied: Deprecated in /usr/local/lib/python3.11/dist-packages (from pikepdf) (1.2.18)\n",
            "Requirement already satisfied: lxml>=4.8 in /usr/local/lib/python3.11/dist-packages (from pikepdf) (5.3.1)\n",
            "Requirement already satisfied: packaging in /usr/local/lib/python3.11/dist-packages (from pikepdf) (24.2)\n",
            "Requirement already satisfied: wrapt<2,>=1.10 in /usr/local/lib/python3.11/dist-packages (from Deprecated->pikepdf) (1.17.2)\n",
            "Downloading pikepdf-9.5.2-cp311-cp311-manylinux_2_17_x86_64.manylinux2014_x86_64.whl (2.4 MB)\n",
            "\u001b[2K   \u001b[90m━━━━━━━━━━━━━━━━━━━━━━━━━━━━━━━━━━━━━━━━\u001b[0m \u001b[32m2.4/2.4 MB\u001b[0m \u001b[31m18.6 MB/s\u001b[0m eta \u001b[36m0:00:00\u001b[0m\n",
            "\u001b[?25hInstalling collected packages: pikepdf\n",
            "Successfully installed pikepdf-9.5.2\n"
          ]
        }
      ],
      "source": [
        "!pip install pikepdf"
      ]
    },
    {
      "cell_type": "code",
      "source": [
        "from pikepdf import Pdf, Pdfimage\n",
        "\n",
        "arquivo = Pdf.open(\"nome_do_arquivo.pdf\")\n",
        "#arquivo.page traz uma lista com as paginas do pdf\n",
        "#cada item da imagem traz um nome e a imagem\n",
        "#fileprefix é para colocar o nome e caminho dos arquivos salvos\n",
        "\n",
        "for pagina in arquivo.page:\n",
        "    for nome, imagem in pagina.images.items():\n",
        "        imagem_salvar = PdfImage(imagem)\n",
        "        imagem_salvar.extract_to(fileprefix=f\"imagens/{nome}\")\n",
        "\n"
      ],
      "metadata": {
        "id": "JkIN6qNpHsKB"
      },
      "execution_count": null,
      "outputs": []
    }
  ]
}